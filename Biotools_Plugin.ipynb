{
 "cells": [
  {
   "cell_type": "markdown",
   "id": "70d21924-82aa-4aae-b28f-aaed97abe80a",
   "metadata": {},
   "source": [
    "# Outbreak.info bio.tools ComputationalTools Plugin\n",
    "##\n"
   ]
  },
  {
   "cell_type": "markdown",
   "id": "2e1f8492-6ea0-4d59-ab57-2bb25536b259",
   "metadata": {},
   "source": [
    "## Parse through the bio.tools Resource List to get biotoolsID relevant to COVID-19\n",
    "I have two methodss of pulling out the biotoolsID out of the resource list <br>\n",
    "Method 1: Applies for lopp <br>\n",
    "Method 2: Uses while loop <br>\n",
    "Both of the methods can achieve the same result but while loop is faster <br>\n",
    "\n",
    "### Method #1:"
   ]
  },
  {
   "cell_type": "code",
   "execution_count": 8,
   "id": "fb4453ff-bdcc-4417-b96a-2d810ceabf62",
   "metadata": {},
   "outputs": [
    {
     "name": "stdout",
     "output_type": "stream",
     "text": [
      "['covid-19-preview', 'covid-19-antibody-therapeutics-tracker', 'covid-19-knowledge-graph', 'covid-19-ct-cxr', 'covid-19-data-portal', 'covid-19-testnorm', 'covid-19-signsym', 'covid-19_dashboard', 'covid-19-ontology', 'covid-19-biomarkers-oncomx', 'covid-19-cg', 'covid-19-scenarios', 'covid-19_knetminer', 'covid19-transmission-model', 'covid19-infections-eu', 'covid19spread-model', 'covid19-textanalytics', 'covid19-infections', 'covid19-propagation-simulator-simulink', 'covid19-forecasting-ml', 'covid19-world-spread-animation', 'kg-covid-19', 'ai-ct-covid-19', 'sird-model-covid19', 'simbiology-covid-19-seir-model', 'analysis-forecast-covid19-patients-worldwide', 'john-hopkins-covid19-cases-loader', 'ecdc-covid19-tracking', 'reading-visualizing-covid19-data', 'round-variance-sars-cov-2-gene-sequence-covid19', 'india-covid19-patients-forecastive-model-standalone-app', 'metu', 'future-trends-covid19-infections-ny-city-tokyo', 'who-covid-19-dashboard', 'ensembl-covid19', 'arc-covid19', 'track-global-spread-covid19', 'covid-19-data-analysis', 'coke', 'covid-sgis', 'ncov2019', 'openabm-covid19', '19andme', 'covid-ct-mask-net', 'assaym', 'epimox', 'covam', 'cope', 'deep-covid', 'jcs', 'covidmine', 'covid-kop', 'covidprognosis', 'covid-align', 'corona_health', 'covidnlp', 'covidomic', 'snpnexus-covid', 'covid19riskai', 'covidc', 'covidrugnet', 'neo4covid19', 'covidctnet', 'covid-net', 'e-covig', 'covid19-drug-interactions', 'covidxraynet', 'aidrug2cov', 'cocomorp', 'graphcovidnet', 'hyper-testing', 'howru', 'covxnet', 'coronet', 'ace2-netlas', 'covidsim', 'johns_hopkins_coronavirus', 'coronavirus_update_live', 'd3targets-2019-ncov', 'deepr2cov', 'covid-abs', 'coverifi', 'ncov', 'covidmulti-net', 'the_coronavirus_app', 'trendbreaker', 'covid-term', 'covidhunter', 'cov-seq', 'covid-track', 'virus-ckb', 'overcovid', 'covid19census', 'er-cov', 'ucph_covid19_dashboard', 'geneva', 'covasim', 'bayesepimodels_webapp', 'cov-genome-tracker', 'covid-predictor', 'covid-deeppredictor', 'coronavir', 'immuno-analytics', 'd3similarity', 'cordite', 'DeepCLIP', 'drugvirus', 'vipr', 'evag', 'ictv', 'seq2hosts', 'virusmentha', 'prokka', 'viral_bioinformatics', 'VADR', 'blast_betacoronavirus', 'cov2id', 'artic', 'malvirus', 'covidep', 'aidrugapp', 'morpheus-framework', 'hgca', 'idcov', 'havoc', 'sarscov23ddatabase', 'sarscovidb', 'foldx', '2019ncovas', 'vsm', 'retrieve_and_relate', 'bayesepimodels', 'EVcouplings', 'v-pipe', 'covradar', 'esc', 'preanticov', 'coronapp', 'coronavr', 'cov3d', 'covdb', 'covex', 'covid-19-mutation-browser', 'covidex', 'covidstrategycalculator', 'coviedb', 'crossbar', 'stat3in', 'respiraconnosotros', 'phastsim', 'deepips', 'mmmvi', 'tnet', 't-cov', 'covizu', 'fastv', 'pacific', 'pager-cov', 'dbcovp', 'deeptracer', 'dockcov2', 'lineagespot', 'coronavirus-network-explorer', 'coronacentral', 'covidexpress', 'virusurf', 'impusars', 'ginpipe', 'virusviz', 'utldr', 'outbreak', 'new_use_old_drugs', 'pha4ge_sars-cov-2_contextual_data_specification', 'virhostnet', 'viralzone', 'edia', 'proteinsplus', 'protoss', 'dogsitescorer', 'siena', 'signor', 'covid-19riskprediction', 'covid-19-bioreproducibility', 'covid19-spread-visualizer', 'covid19data', 'fitviruscovid19', 'covid19-india-spread-animation', 'simcovid', 'covid19-data-fitting', 'fitviruscv19-state', 'fitviruscv19v3', 'covid19-modeling', 'recover', 'corona-exponential-fit', 'covid-gui', 'bionda', 'pipprofiler', 'nf-core-viralrecon', 'corona-Infections-usa', 'sir-model-virus-spread', 'analysis-the-trajectory-covid19-close-contacts', 'covid19-realtime-tracking-simulation-indian-states', 'simulitis', 'sir-model-covid19-india-real-time-tracking', 'branching-process-simulator', 'covd', 'mint', 'swiss-model_workspace', 'disgenet', 'optconet', 'h4coronavirus3d', 'convida', 'coronavirus-tracker', 'fitvirus', 'simulink-virus-simulator', 'iontobioethics', 'baysir', 'gui-fying-classification-dl-model-builder', 'covid19-analysis', 'mini-covidnet', 'icpagdb', 'vapur', 'pracriti', 'fitviruscv19varw', 'haplotype_explorer', 'sibils', 'opensafely', 'euadb', 'lqas-imp', 'australian-genomics', 'ism', 'symptoma', 'sars-cov-2', 'model-m', 'qure.ai', 'metatryp', 'iDASH', 'gess-db', 'plant_ptm_viewer', 'scmlnet', 'virtus', 'miprip', 'simplephy', 'virusdip', 'Rhapsody', 'asf-fast', 'stretch', 'gelymac', 'FACEPAI', 'pdac-ann', 'TupaiaBase', 'fngwas', 'anmj-morph', 'mesophotic.org', 'circatlas', 'GoldenMutagenesis', 'PyLandStats', 'vhcub']\n",
      "The total number of biotoolsID is 258\n"
     ]
    }
   ],
   "source": [
    "import requests\n",
    "import json\n",
    "import time\n",
    "\n",
    "url = 'https://bio.tools/api/t'\n",
    "payloads = {'format': 'json', 'q': 'COVID-19', 'sort':'score'}\n",
    "r = requests.get(url, params=payloads, timeout=5).json()\n",
    "count = r['count']\n",
    "list_num = len(r['list'])\n",
    "\n",
    "rounds = round(count/list_num) + 1\n",
    "\n",
    "biotools_id = []\n",
    "for page in range(1, rounds):\n",
    "    payloads_all = {'format': 'json', 'page': page, 'q': 'COVID-19', 'sort': 'score'}\n",
    "    biotool_response = requests.get(url, params=payloads_all, timeout=5)\n",
    "    biotool_json = biotool_response.json()\n",
    "    bio_response_list = biotool_json['list']\n",
    "    \n",
    "    for ids in bio_response_list:\n",
    "        try:\n",
    "            biotools_ID = ids['biotoolsID']\n",
    "            biotools_id.append(biotools_ID)\n",
    "        except:\n",
    "            biotools_id.append(None)      \n",
    "time.sleep(1)\n",
    "\n",
    "print(biotools_id)\n",
    "\n",
    "print(f'The total number of biotoolsID is {len(biotools_id)}')"
   ]
  },
  {
   "cell_type": "markdown",
   "id": "2c6195ac-6159-40ad-88f3-5946061f8143",
   "metadata": {},
   "source": [
    "### Method #2:"
   ]
  },
  {
   "cell_type": "code",
   "execution_count": 9,
   "id": "d117be79-0aa7-408f-ab56-d182fdd69cf8",
   "metadata": {},
   "outputs": [
    {
     "name": "stdout",
     "output_type": "stream",
     "text": [
      "['covid-19-preview', 'covid-19-antibody-therapeutics-tracker', 'covid-19-knowledge-graph', 'covid-19-ct-cxr', 'covid-19-data-portal', 'covid-19-testnorm', 'covid-19-signsym', 'covid-19_dashboard', 'covid-19-ontology', 'covid-19-biomarkers-oncomx', 'covid-19-cg', 'covid-19-scenarios', 'covid-19_knetminer', 'covid19-transmission-model', 'covid19-infections-eu', 'covid19spread-model', 'covid19-textanalytics', 'covid19-infections', 'covid19-propagation-simulator-simulink', 'covid19-forecasting-ml', 'covid19-world-spread-animation', 'kg-covid-19', 'ai-ct-covid-19', 'sird-model-covid19', 'simbiology-covid-19-seir-model', 'analysis-forecast-covid19-patients-worldwide', 'john-hopkins-covid19-cases-loader', 'ecdc-covid19-tracking', 'reading-visualizing-covid19-data', 'round-variance-sars-cov-2-gene-sequence-covid19', 'india-covid19-patients-forecastive-model-standalone-app', 'metu', 'future-trends-covid19-infections-ny-city-tokyo', 'who-covid-19-dashboard', 'ensembl-covid19', 'arc-covid19', 'track-global-spread-covid19', 'covid-19-data-analysis', 'coke', 'covid-sgis', 'ncov2019', 'openabm-covid19', '19andme', 'covid-ct-mask-net', 'assaym', 'epimox', 'covam', 'cope', 'deep-covid', 'jcs', 'covidmine', 'covid-kop', 'covidprognosis', 'covid-align', 'corona_health', 'covidnlp', 'covidomic', 'snpnexus-covid', 'covid19riskai', 'covidc', 'covidrugnet', 'neo4covid19', 'covidctnet', 'covid-net', 'e-covig', 'covid19-drug-interactions', 'covidxraynet', 'aidrug2cov', 'cocomorp', 'graphcovidnet', 'hyper-testing', 'howru', 'covxnet', 'coronet', 'ace2-netlas', 'covidsim', 'johns_hopkins_coronavirus', 'coronavirus_update_live', 'd3targets-2019-ncov', 'deepr2cov', 'covid-abs', 'coverifi', 'ncov', 'covidmulti-net', 'the_coronavirus_app', 'trendbreaker', 'covid-term', 'covidhunter', 'cov-seq', 'covid-track', 'virus-ckb', 'overcovid', 'covid19census', 'er-cov', 'ucph_covid19_dashboard', 'geneva', 'covasim', 'bayesepimodels_webapp', 'cov-genome-tracker', 'covid-predictor', 'covid-deeppredictor', 'coronavir', 'immuno-analytics', 'd3similarity', 'cordite', 'DeepCLIP', 'drugvirus', 'vipr', 'evag', 'ictv', 'seq2hosts', 'virusmentha', 'prokka', 'viral_bioinformatics', 'VADR', 'blast_betacoronavirus', 'cov2id', 'artic', 'malvirus', 'covidep', 'aidrugapp', 'morpheus-framework', 'hgca', 'idcov', 'havoc', 'sarscov23ddatabase', 'sarscovidb', 'foldx', '2019ncovas', 'vsm', 'retrieve_and_relate', 'bayesepimodels', 'EVcouplings', 'v-pipe', 'covradar', 'esc', 'preanticov', 'coronapp', 'coronavr', 'cov3d', 'covdb', 'covex', 'covid-19-mutation-browser', 'covidex', 'covidstrategycalculator', 'coviedb', 'crossbar', 'stat3in', 'respiraconnosotros', 'phastsim', 'deepips', 'mmmvi', 'tnet', 't-cov', 'covizu', 'fastv', 'pacific', 'pager-cov', 'dbcovp', 'deeptracer', 'dockcov2', 'lineagespot', 'coronavirus-network-explorer', 'coronacentral', 'covidexpress', 'virusurf', 'impusars', 'ginpipe', 'virusviz', 'utldr', 'outbreak', 'new_use_old_drugs', 'pha4ge_sars-cov-2_contextual_data_specification', 'virhostnet', 'viralzone', 'edia', 'proteinsplus', 'protoss', 'dogsitescorer', 'siena', 'signor', 'covid-19riskprediction', 'covid-19-bioreproducibility', 'covid19-spread-visualizer', 'covid19data', 'fitviruscovid19', 'covid19-india-spread-animation', 'simcovid', 'covid19-data-fitting', 'fitviruscv19-state', 'fitviruscv19v3', 'covid19-modeling', 'recover', 'corona-exponential-fit', 'covid-gui', 'bionda', 'pipprofiler', 'nf-core-viralrecon', 'corona-Infections-usa', 'sir-model-virus-spread', 'analysis-the-trajectory-covid19-close-contacts', 'covid19-realtime-tracking-simulation-indian-states', 'simulitis', 'sir-model-covid19-india-real-time-tracking', 'branching-process-simulator', 'covd', 'mint', 'swiss-model_workspace', 'disgenet', 'optconet', 'h4coronavirus3d', 'convida', 'coronavirus-tracker', 'fitvirus', 'simulink-virus-simulator', 'iontobioethics', 'baysir', 'gui-fying-classification-dl-model-builder', 'covid19-analysis', 'mini-covidnet', 'icpagdb', 'vapur', 'pracriti', 'fitviruscv19varw', 'haplotype_explorer', 'sibils', 'opensafely', 'euadb', 'lqas-imp', 'australian-genomics', 'ism', 'symptoma', 'sars-cov-2', 'model-m', 'qure.ai', 'metatryp', 'iDASH', 'gess-db', 'plant_ptm_viewer', 'scmlnet', 'virtus', 'miprip', 'simplephy', 'virusdip', 'Rhapsody', 'asf-fast', 'stretch', 'gelymac', 'FACEPAI', 'pdac-ann', 'TupaiaBase', 'fngwas', 'anmj-morph', 'mesophotic.org', 'circatlas', 'GoldenMutagenesis', 'PyLandStats', 'vhcub']\n",
      "The total number of biotoolsID is 258\n"
     ]
    }
   ],
   "source": [
    "import requests\n",
    "import json\n",
    "import time\n",
    "\n",
    "url = 'https://bio.tools/api/t'\n",
    "payloads = {'format': 'json', 'q': 'COVID-19', 'sort':'score'}\n",
    "r = requests.get(url, params=payloads, timeout=5).json()\n",
    "count = r['count']\n",
    "list_num = len(r['list'])\n",
    "\n",
    "rounds = round(count/list_num)\n",
    "\n",
    "biotools_id = []\n",
    "\n",
    "page = 0\n",
    "while page < rounds:\n",
    "    page += 1\n",
    "    payloads_all = {\n",
    "    'format': 'json', \n",
    "    'page': page, \n",
    "    'q': 'COVID-19', \n",
    "    'sort': 'score'}\n",
    "    biotool_response = requests.get(url, params=payloads_all, timeout=5)\n",
    "    biotools_json = biotool_response.json()\n",
    "\n",
    "    for value in biotools_json['list']:\n",
    "        ids = value['biotoolsID']\n",
    "        biotools_id.append(ids)\n",
    "        \n",
    "print(biotools_id)\n",
    "\n",
    "print(f'The total number of biotoolsID is {len(biotools_id)}')"
   ]
  },
  {
   "cell_type": "markdown",
   "id": "8355cc9b-4d9e-4c13-bfb1-ec4ffea8e68f",
   "metadata": {},
   "source": [
    "## Use the biotoolsID to get bioschemas from github"
   ]
  },
  {
   "cell_type": "code",
   "execution_count": 10,
   "id": "53cc60d0-e0f2-44e3-8703-d24a91ec8dce",
   "metadata": {},
   "outputs": [
    {
     "name": "stdout",
     "output_type": "stream",
     "text": [
      "{'@context': {'@base': 'https://bio.tools/', 'biotools': 'https://bio.tools/ontology/', 'edam': 'http://edamontology.org/', 'rdfs': 'http://www.w3.org/2000/01/rdf-schema#', 'sc': 'http://schema.org/', 'dct': 'http://purl.org/dc/terms/', 'bsc': 'http://bioschemas.org/', 'bsct': 'http://bioschemas.org/types/', 'description': 'sc:description', 'name': 'sc:name', 'identifier': 'sc:identifier', 'sameAs': 'sc:sameAs', 'homepage': 'sc:url', 'toolType': 'sc:additionalType', 'primaryContact': 'biotools:primaryContact', 'author': 'sc:author', 'provider': 'sc:provider', 'contributor': 'sc:contributor', 'funder': 'sc:funder', 'hasPublication': 'sc:citation', 'hasTopic': 'sc:applicationSubCategory', 'hasOperation': 'sc:featureList', 'hasInputData': 'bsc:input', 'hasOutputData': 'bsc:output', 'license': 'sc:license', 'version': 'sc:softwareVersion', 'isAccessibleForFree': 'sc:isAccessibleForFree', 'operatingSystem': 'sc:operatingSystem', 'hasApiDoc': 'sc:softwareHelp', 'hasGenDoc': 'sc:softwareHelp', 'hasTermsOfUse': 'sc:termsOfService', 'conformsTo': 'dct:conformsTo'}, '@graph': {'@id': 'covid-19-preview', '@type': ['sc:SoftwareApplication'], 'applicationCategory': 'Computational science tool', 'primaryContact': [], 'author': [], 'contributor': [], 'provider': [], 'funder': [], 'conformsTo': 'https://bioschemas.org/profiles/ComputationalTool/1.0-RELEASE', 'hasPublication': ['pubmed:34042709', {'@id': 'https://doi.org/10.3233/SHTI210124', '@type': 'sc:CreativeWork'}], 'hasOperation': [{'@id': 'http://edamontology.org/operation_2422'}, {'@id': 'http://edamontology.org/operation_2421'}, {'@id': 'http://edamontology.org/operation_3778'}], 'hasTopic': [{'@id': 'http://edamontology.org/topic_0218'}, {'@id': 'http://edamontology.org/topic_0089'}, {'@id': 'http://edamontology.org/topic_0769'}, {'@id': 'http://edamontology.org/topic_0634'}, {'@id': 'http://edamontology.org/topic_3063'}], 'hasGenDoc': [{'@id': 'https://preview.zbmed.de/tutorial'}]}}\n",
      "258\n"
     ]
    }
   ],
   "source": [
    "import requests\n",
    "import json\n",
    "import time\n",
    "\n",
    "url = 'https://bio.tools/api/t'\n",
    "queries = {'format': 'json', 'q': 'COVID-19', 'sort':'score'}\n",
    "response = requests.get(url, params=queries, timeout=5).json()\n",
    "count = response['count']\n",
    "list_len = len(response['list'])\n",
    "    \n",
    "rounds = round(count/list_len)\n",
    "    \n",
    "biotools_id = []\n",
    "    \n",
    "page = 0\n",
    "while page < rounds:\n",
    "    page += 1\n",
    "    queries_all = {\n",
    "        'format': 'json', \n",
    "        'page': page, \n",
    "        'q': 'COVID-19', \n",
    "        'sort': 'score'}\n",
    "    biotool_response = requests.get(url, params=queries_all, timeout=5)\n",
    "    biotools_json = biotool_response.json()\n",
    "        \n",
    "    for value in biotools_json['list']:\n",
    "        ids = value['biotoolsID']\n",
    "        biotools_id.append(ids)\n",
    "\n",
    "    time.sleep(1)\n",
    "\n",
    "repos_list = []\n",
    "for id in biotools_id:\n",
    "    if len(biotools_id) > 0:\n",
    "        try:\n",
    "            git_url = f'https://raw.githubusercontent.com/bio-tools/content/master/data/{id}/{id}.bioschemas.jsonld'\n",
    "            git_response = requests.get(git_url, timeout=5)\n",
    "            git_json = git_response.json()\n",
    "            repos_list.append(git_json)\n",
    "        except:\n",
    "            repos_list.append(None)\n",
    "\n",
    "    time.sleep(1)\n",
    "\n",
    "print(repos_list[0])\n",
    "print(len(repos_list))"
   ]
  },
  {
   "cell_type": "markdown",
   "id": "4e599353-2123-4222-b5c1-e763d3cb94db",
   "metadata": {},
   "source": [
    "## Compare the bio.tools bioschema with outbreak.info schema"
   ]
  },
  {
   "cell_type": "code",
   "execution_count": null,
   "id": "8e32bfec-b54c-4ed9-9363-f2736b966db2",
   "metadata": {},
   "outputs": [],
   "source": [
    "    "
   ]
  }
 ],
 "metadata": {
  "kernelspec": {
   "display_name": "Python 3",
   "language": "python",
   "name": "python3"
  },
  "language_info": {
   "codemirror_mode": {
    "name": "ipython",
    "version": 3
   },
   "file_extension": ".py",
   "mimetype": "text/x-python",
   "name": "python",
   "nbconvert_exporter": "python",
   "pygments_lexer": "ipython3",
   "version": "3.8.5"
  }
 },
 "nbformat": 4,
 "nbformat_minor": 5
}
